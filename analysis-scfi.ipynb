{
 "cells": [
  {
   "cell_type": "code",
   "execution_count": 1,
   "id": "9637286c-7e34-4c55-8b92-686c6ab89cf0",
   "metadata": {},
   "outputs": [
    {
     "name": "stdout",
     "output_type": "stream",
     "text": [
      "Welcome to JupyROOT 6.24/06\n"
     ]
    }
   ],
   "source": [
    "from pathlib import Path\n",
    "import ROOT\n",
    "%jsroot on"
   ]
  },
  {
   "cell_type": "markdown",
   "id": "8ac26ea5-98aa-44c0-b84d-eb961b2d677b",
   "metadata": {},
   "source": [
    "A note on the EIC tutorials and/or ROOT class reference documentation: these use C++ syntax, while this notebook is in Python. Generally the names of the methods are the same, so in most cases it should be straightforward to \"translate\" between the two.\n",
    "\n",
    "One of the biggest differences is how objects are created, e.g. compare the C++ syntax used in the EIC tutorial, with the Python equivalent:\n",
    "\n",
    "```c++\n",
    "// C++\n",
    "TVector3 electron_mc(0., 0., 0.);\n",
    "electron_mc.SetXYZ(123., 234., 345.);\n",
    "```\n",
    "\n",
    "```python\n",
    "# Python\n",
    "electron_mc = TVector3(0., 0., 0.)\n",
    "electron_mc.SetXYZ(123., 234., 345.)\n",
    "```"
   ]
  },
  {
   "cell_type": "code",
   "execution_count": 2,
   "id": "50c376fd-5d61-45af-a915-115c1d41f1a6",
   "metadata": {},
   "outputs": [],
   "source": [
    "data_path = Path(\"./data\")\n",
    "assert data_path.is_dir()"
   ]
  },
  {
   "cell_type": "markdown",
   "id": "2679c645-ebc8-403e-a2c0-04c25cbd3f72",
   "metadata": {},
   "source": [
    "A `TChain` allows us to add data from multiple file, and then refer to that object as if it was a normal `TTree`:\n",
    "\n",
    "- https://root.cern.ch/doc/master/classTTree.html\n",
    "- https://root.cern.ch/doc/master/classTChain.html"
   ]
  },
  {
   "cell_type": "code",
   "execution_count": 3,
   "id": "c7a69608-a911-4b4f-af4b-66678aca901b",
   "metadata": {},
   "outputs": [],
   "source": [
    "chain = ROOT.TChain(\"events\")\n",
    "for particle in [\"e-\", \"mu-\", \"pi-\"]:\n",
    "    file_name = f\"{particle}_8GeV_eta0.0.0000.eicrecon.tree.edm4eic.root\"\n",
    "    file_path = data_path / file_name\n",
    "    chain.Add(str(file_path))"
   ]
  },
  {
   "cell_type": "code",
   "execution_count": 4,
   "id": "deeb6e76-f7bf-40ea-a824-5830e017d369",
   "metadata": {},
   "outputs": [
    {
     "data": {
      "text/plain": [
       "<cppyy.gbl.TChain object at 0x55d10c649380>"
      ]
     },
     "execution_count": 4,
     "metadata": {},
     "output_type": "execute_result"
    },
    {
     "name": "stderr",
     "output_type": "stream",
     "text": [
      "Warning in <TClass::Init>: no dictionary for class podio::version::Version is available\n",
      "Warning in <TClass::Init>: no dictionary for class edm4eic::ClusterData is available\n",
      "Warning in <TClass::Init>: no dictionary for class edm4eic::Cov3f is available\n",
      "Warning in <TClass::Init>: no dictionary for class edm4eic::Cov2f is available\n",
      "Warning in <TClass::Init>: no dictionary for class edm4eic::CalorimeterHitData is available\n",
      "Warning in <TClass::Init>: no dictionary for class edm4eic::TrackerHitData is available\n",
      "Warning in <TClass::Init>: no dictionary for class edm4eic::CovDiag3f is available\n",
      "Warning in <TClass::Init>: no dictionary for class edm4eic::TrackParametersData is available\n",
      "Warning in <TClass::Init>: no dictionary for class edm4hep::Vector2f is available\n",
      "Warning in <TClass::Init>: no dictionary for class edm4eic::TrackSegmentData is available\n",
      "Warning in <TClass::Init>: no dictionary for class edm4eic::TrackPoint is available\n",
      "Warning in <TClass::Init>: no dictionary for class edm4eic::MCRecoClusterParticleAssociationData is available\n",
      "Warning in <TClass::Init>: no dictionary for class edm4eic::ReconstructedParticleData is available\n",
      "Warning in <TClass::Init>: no dictionary for class edm4eic::Cov4f is available\n",
      "Warning in <TClass::Init>: no dictionary for class edm4eic::InclusiveKinematicsData is available\n",
      "Warning in <TClass::Init>: no dictionary for class edm4eic::MCRecoParticleAssociationData is available\n"
     ]
    }
   ],
   "source": [
    "tree = chain\n",
    "tree"
   ]
  },
  {
   "cell_type": "code",
   "execution_count": 5,
   "id": "e1a611d9-c9a4-4230-8416-c60dbc3b9ba9",
   "metadata": {},
   "outputs": [
    {
     "data": {
      "text/plain": [
       "95641"
      ]
     },
     "execution_count": 5,
     "metadata": {},
     "output_type": "execute_result"
    }
   ],
   "source": [
    "tree.GetEntries()"
   ]
  },
  {
   "cell_type": "code",
   "execution_count": 6,
   "id": "7ee796b6-c806-4883-8bc0-afc9b941517e",
   "metadata": {
    "tags": []
   },
   "outputs": [
    {
     "name": "stdout",
     "output_type": "stream",
     "text": [
      "******************************************************************************\n",
      "*Chain   :events    : data/e-_8GeV_eta0.0.0000.eicrecon.tree.edm4eic.root    *\n",
      "******************************************************************************\n",
      "******************************************************************************\n",
      "*Tree    :events    : Events tree                                            *\n",
      "*Entries :    20000 : Total =       842857279 bytes  File  Size =  247835195 *\n",
      "*        :          : Tree compression factor =   3.40                       *\n",
      "******************************************************************************\n",
      "*Br    0 :EcalBarrelScFiRecHits : Int_t EcalBarrelScFiRecHits_               *\n",
      "*Entries :    20000 : Total  Size=     190671 bytes  File Size  =      55771 *\n",
      "*Baskets :        8 : Basket Size=      32000 bytes  Compression=   2.88     *\n",
      "*............................................................................*\n",
      "*Br    1 :EcalBarrelScFiRecHits.cellID :                                     *\n",
      "*         | ULong_t cellID[EcalBarrelScFiRecHits_]                           *\n",
      "*Entries :    20000 : Total  Size=   23366017 bytes  File Size  =   13964655 *\n",
      "*Baskets :      116 : Basket Size=    1092096 bytes  Compression=   1.67     *\n",
      "*............................................................................*\n",
      "*Br    2 :EcalBarrelScFiRecHits.energy :                                     *\n",
      "*         | Float_t energy[EcalBarrelScFiRecHits_]                           *\n",
      "*Entries :    20000 : Total  Size=   11723763 bytes  File Size  =    5416131 *\n",
      "*Baskets :       62 : Basket Size=    1092096 bytes  Compression=   2.16     *\n",
      "*............................................................................*\n",
      "*Br    3 :EcalBarrelScFiRecHits.energyError :                                *\n",
      "*         | Float_t energyError[EcalBarrelScFiRecHits_]                      *\n",
      "*Entries :    20000 : Total  Size=   11724093 bytes  File Size  =     128153 *\n",
      "*Baskets :       62 : Basket Size=    1092096 bytes  Compression=  91.47     *\n",
      "*............................................................................*\n",
      "*Br    4 :EcalBarrelScFiRecHits.time : Float_t time[EcalBarrelScFiRecHits_]  *\n",
      "*Entries :    20000 : Total  Size=   11723631 bytes  File Size  =    4796433 *\n",
      "*Baskets :       62 : Basket Size=    1092096 bytes  Compression=   2.44     *\n",
      "*............................................................................*\n",
      "*Br    5 :EcalBarrelScFiRecHits.timeError :                                  *\n",
      "*         | Float_t timeError[EcalBarrelScFiRecHits_]                        *\n",
      "*Entries :    20000 : Total  Size=   11723961 bytes  File Size  =     127861 *\n",
      "*Baskets :       62 : Basket Size=    1092096 bytes  Compression=  91.68     *\n",
      "*............................................................................*\n",
      "*Br    6 :EcalBarrelScFiRecHits.position.x :                                 *\n",
      "*         | Float_t x[EcalBarrelScFiRecHits_]                                *\n",
      "*Entries :    20000 : Total  Size=   11724009 bytes  File Size  =    5767636 *\n",
      "*Baskets :       62 : Basket Size=    1092096 bytes  Compression=   2.03     *\n",
      "*............................................................................*\n",
      "*Br    7 :EcalBarrelScFiRecHits.position.y :                                 *\n",
      "*         | Float_t y[EcalBarrelScFiRecHits_]                                *\n",
      "*Entries :    20000 : Total  Size=   11724009 bytes  File Size  =    5764393 *\n",
      "*Baskets :       62 : Basket Size=    1092096 bytes  Compression=   2.03     *\n",
      "*............................................................................*\n",
      "*Br    8 :EcalBarrelScFiRecHits.position.z :                                 *\n",
      "*         | Float_t z[EcalBarrelScFiRecHits_]                                *\n",
      "*Entries :    20000 : Total  Size=   11724009 bytes  File Size  =    3777685 *\n",
      "*Baskets :       62 : Basket Size=    1092096 bytes  Compression=   3.10     *\n",
      "*............................................................................*\n",
      "*Br    9 :EcalBarrelScFiRecHits.dimension.x :                                *\n",
      "*         | Float_t x[EcalBarrelScFiRecHits_]                                *\n",
      "*Entries :    20000 : Total  Size=   11724073 bytes  File Size  =     134125 *\n",
      "*Baskets :       62 : Basket Size=    1092096 bytes  Compression=  87.40     *\n",
      "*............................................................................*\n",
      "*Br   10 :EcalBarrelScFiRecHits.dimension.y :                                *\n",
      "*         | Float_t y[EcalBarrelScFiRecHits_]                                *\n",
      "*Entries :    20000 : Total  Size=   11724073 bytes  File Size  =     128153 *\n",
      "*Baskets :       62 : Basket Size=    1092096 bytes  Compression=  91.47     *\n",
      "*............................................................................*\n",
      "*Br   11 :EcalBarrelScFiRecHits.dimension.z :                                *\n",
      "*         | Float_t z[EcalBarrelScFiRecHits_]                                *\n",
      "*Entries :    20000 : Total  Size=   11724073 bytes  File Size  =     128153 *\n",
      "*Baskets :       62 : Basket Size=    1092096 bytes  Compression=  91.47     *\n",
      "*............................................................................*\n",
      "*Br   12 :EcalBarrelScFiRecHits.sector : Int_t sector[EcalBarrelScFiRecHits_]*\n",
      "*Entries :    20000 : Total  Size=   11723763 bytes  File Size  =    1341717 *\n",
      "*Baskets :       62 : Basket Size=    1092096 bytes  Compression=   8.74     *\n",
      "*............................................................................*\n",
      "*Br   13 :EcalBarrelScFiRecHits.layer : Int_t layer[EcalBarrelScFiRecHits_]  *\n",
      "*Entries :    20000 : Total  Size=   11723697 bytes  File Size  =    2388549 *\n",
      "*Baskets :       62 : Basket Size=    1092096 bytes  Compression=   4.91     *\n",
      "*............................................................................*\n",
      "*Br   14 :EcalBarrelScFiRecHits.local.x : Float_t x[EcalBarrelScFiRecHits_]  *\n",
      "*Entries :    20000 : Total  Size=   11723817 bytes  File Size  =    5848140 *\n",
      "*Baskets :       62 : Basket Size=    1092096 bytes  Compression=   2.00     *\n",
      "*............................................................................*\n",
      "*Br   15 :EcalBarrelScFiRecHits.local.y : Float_t y[EcalBarrelScFiRecHits_]  *\n",
      "*Entries :    20000 : Total  Size=   11723817 bytes  File Size  =    5846963 *\n",
      "*Baskets :       62 : Basket Size=    1092096 bytes  Compression=   2.00     *\n",
      "*............................................................................*\n",
      "*Br   16 :EcalBarrelScFiRecHits.local.z : Float_t z[EcalBarrelScFiRecHits_]  *\n",
      "*Entries :    20000 : Total  Size=   11723817 bytes  File Size  =    3389196 *\n",
      "*Baskets :       62 : Basket Size=    1092096 bytes  Compression=   3.46     *\n",
      "*............................................................................*\n",
      "******************************************************************************\n",
      "*Chain   :events    : data/mu-_8GeV_eta0.0.0000.eicrecon.tree.edm4eic.root   *\n",
      "******************************************************************************\n",
      "******************************************************************************\n",
      "*Tree    :events    : Events tree                                            *\n",
      "*Entries :    50000 : Total =       769977618 bytes  File  Size =  159507156 *\n",
      "*        :          : Tree compression factor =   4.83                       *\n",
      "******************************************************************************\n",
      "*Br    0 :EcalBarrelScFiRecHits : Int_t EcalBarrelScFiRecHits_               *\n",
      "*Entries :    50000 : Total  Size=     421965 bytes  File Size  =     123955 *\n",
      "*Baskets :       21 : Basket Size=      32000 bytes  Compression=   3.24     *\n",
      "*............................................................................*\n",
      "*Br    1 :EcalBarrelScFiRecHits.cellID :                                     *\n",
      "*         | ULong_t cellID[EcalBarrelScFiRecHits_]                           *\n",
      "*Entries :    50000 : Total  Size=    7672407 bytes  File Size  =    4270077 *\n",
      "*Baskets :       58 : Basket Size=     827904 bytes  Compression=   1.80     *\n",
      "*............................................................................*\n",
      "*Br    2 :EcalBarrelScFiRecHits.energy :                                     *\n",
      "*         | Float_t energy[EcalBarrelScFiRecHits_]                           *\n",
      "*Entries :    50000 : Total  Size=    3936708 bytes  File Size  =    1465509 *\n",
      "*Baskets :       31 : Basket Size=     827904 bytes  Compression=   2.69     *\n",
      "*............................................................................*\n",
      "*Br    3 :EcalBarrelScFiRecHits.energyError :                                *\n",
      "*         | Float_t energyError[EcalBarrelScFiRecHits_]                      *\n",
      "*Entries :    50000 : Total  Size=    3936883 bytes  File Size  =     135573 *\n",
      "*Baskets :       31 : Basket Size=     827904 bytes  Compression=  29.03     *\n",
      "*............................................................................*\n",
      "*Br    4 :EcalBarrelScFiRecHits.time : Float_t time[EcalBarrelScFiRecHits_]  *\n",
      "*Entries :    50000 : Total  Size=    3936638 bytes  File Size  =    1312633 *\n",
      "*Baskets :       31 : Basket Size=     827904 bytes  Compression=   3.00     *\n",
      "*............................................................................*\n",
      "*Br    5 :EcalBarrelScFiRecHits.timeError :                                  *\n",
      "*         | Float_t timeError[EcalBarrelScFiRecHits_]                        *\n",
      "*Entries :    50000 : Total  Size=    3936813 bytes  File Size  =     135120 *\n",
      "*Baskets :       31 : Basket Size=     827904 bytes  Compression=  29.13     *\n",
      "*............................................................................*\n",
      "*Br    6 :EcalBarrelScFiRecHits.position.x :                                 *\n",
      "*         | Float_t x[EcalBarrelScFiRecHits_]                                *\n",
      "*Entries :    50000 : Total  Size=    3936830 bytes  File Size  =    1753015 *\n",
      "*Baskets :       31 : Basket Size=     827904 bytes  Compression=   2.25     *\n",
      "*............................................................................*\n",
      "*Br    7 :EcalBarrelScFiRecHits.position.y :                                 *\n",
      "*         | Float_t y[EcalBarrelScFiRecHits_]                                *\n",
      "*Entries :    50000 : Total  Size=    3936830 bytes  File Size  =    1750080 *\n",
      "*Baskets :       31 : Basket Size=     827904 bytes  Compression=   2.25     *\n",
      "*............................................................................*\n",
      "*Br    8 :EcalBarrelScFiRecHits.position.z :                                 *\n",
      "*         | Float_t z[EcalBarrelScFiRecHits_]                                *\n",
      "*Entries :    50000 : Total  Size=    3936830 bytes  File Size  =     529419 *\n",
      "*Baskets :       31 : Basket Size=     827904 bytes  Compression=   7.43     *\n",
      "*............................................................................*\n",
      "*Br    9 :EcalBarrelScFiRecHits.dimension.x :                                *\n",
      "*         | Float_t x[EcalBarrelScFiRecHits_]                                *\n",
      "*Entries :    50000 : Total  Size=    3936863 bytes  File Size  =     137652 *\n",
      "*Baskets :       31 : Basket Size=     827904 bytes  Compression=  28.59     *\n",
      "*............................................................................*\n",
      "*Br   10 :EcalBarrelScFiRecHits.dimension.y :                                *\n",
      "*         | Float_t y[EcalBarrelScFiRecHits_]                                *\n",
      "*Entries :    50000 : Total  Size=    3936863 bytes  File Size  =     135573 *\n",
      "*Baskets :       31 : Basket Size=     827904 bytes  Compression=  29.03     *\n",
      "*............................................................................*\n",
      "*Br   11 :EcalBarrelScFiRecHits.dimension.z :                                *\n",
      "*         | Float_t z[EcalBarrelScFiRecHits_]                                *\n",
      "*Entries :    50000 : Total  Size=    3936863 bytes  File Size  =     135573 *\n",
      "*Baskets :       31 : Basket Size=     827904 bytes  Compression=  29.03     *\n",
      "*............................................................................*\n",
      "*Br   12 :EcalBarrelScFiRecHits.sector : Int_t sector[EcalBarrelScFiRecHits_]*\n",
      "*Entries :    50000 : Total  Size=    3936708 bytes  File Size  =     378819 *\n",
      "*Baskets :       31 : Basket Size=     827904 bytes  Compression=  10.39     *\n",
      "*............................................................................*\n",
      "*Br   13 :EcalBarrelScFiRecHits.layer : Int_t layer[EcalBarrelScFiRecHits_]  *\n",
      "*Entries :    50000 : Total  Size=    3936673 bytes  File Size  =     806251 *\n",
      "*Baskets :       31 : Basket Size=     827904 bytes  Compression=   4.88     *\n",
      "*............................................................................*\n",
      "*Br   14 :EcalBarrelScFiRecHits.local.x : Float_t x[EcalBarrelScFiRecHits_]  *\n",
      "*Entries :    50000 : Total  Size=    3936731 bytes  File Size  =    1766926 *\n",
      "*Baskets :       31 : Basket Size=     827904 bytes  Compression=   2.23     *\n",
      "*............................................................................*\n",
      "*Br   15 :EcalBarrelScFiRecHits.local.y : Float_t y[EcalBarrelScFiRecHits_]  *\n",
      "*Entries :    50000 : Total  Size=    3936731 bytes  File Size  =    1768167 *\n",
      "*Baskets :       31 : Basket Size=     827904 bytes  Compression=   2.23     *\n",
      "*............................................................................*\n",
      "*Br   16 :EcalBarrelScFiRecHits.local.z : Float_t z[EcalBarrelScFiRecHits_]  *\n",
      "*Entries :    50000 : Total  Size=    3936731 bytes  File Size  =     517493 *\n",
      "*Baskets :       31 : Basket Size=     827904 bytes  Compression=   7.61     *\n",
      "*............................................................................*\n",
      "******************************************************************************\n",
      "*Chain   :events    : data/pi-_8GeV_eta0.0.0000.eicrecon.tree.edm4eic.root   *\n",
      "******************************************************************************\n",
      "******************************************************************************\n",
      "*Tree    :events    : Events tree                                            *\n",
      "*Entries :    25641 : Total =       731218679 bytes  File  Size =  224712925 *\n",
      "*        :          : Tree compression factor =   3.25                       *\n",
      "******************************************************************************\n",
      "*Br    0 :EcalBarrelScFiRecHits : Int_t EcalBarrelScFiRecHits_               *\n",
      "*Entries :    25641 : Total  Size=     236145 bytes  File Size  =      77855 *\n",
      "*Baskets :       15 : Basket Size=      32000 bytes  Compression=   2.65     *\n",
      "*............................................................................*\n",
      "*Br    1 :EcalBarrelScFiRecHits.cellID :                                     *\n",
      "*         | ULong_t cellID[EcalBarrelScFiRecHits_]                           *\n",
      "*Entries :    25641 : Total  Size=   20411674 bytes  File Size  =   12890515 *\n",
      "*Baskets :      117 : Basket Size=     763392 bytes  Compression=   1.58     *\n",
      "*............................................................................*\n",
      "*Br    2 :EcalBarrelScFiRecHits.energy :                                     *\n",
      "*         | Float_t energy[EcalBarrelScFiRecHits_]                           *\n",
      "*Entries :    25641 : Total  Size=   10257561 bytes  File Size  =    4342443 *\n",
      "*Baskets :       60 : Basket Size=     763392 bytes  Compression=   2.36     *\n",
      "*............................................................................*\n",
      "*Br    3 :EcalBarrelScFiRecHits.energyError :                                *\n",
      "*         | Float_t energyError[EcalBarrelScFiRecHits_]                      *\n",
      "*Entries :    25641 : Total  Size=   10257881 bytes  File Size  =     132287 *\n",
      "*Baskets :       60 : Basket Size=     763392 bytes  Compression=  77.53     *\n",
      "*............................................................................*\n",
      "*Br    4 :EcalBarrelScFiRecHits.time : Float_t time[EcalBarrelScFiRecHits_]  *\n",
      "*Entries :    25641 : Total  Size=   10257433 bytes  File Size  =    5892735 *\n",
      "*Baskets :       60 : Basket Size=     763392 bytes  Compression=   1.74     *\n",
      "*............................................................................*\n",
      "*Br    5 :EcalBarrelScFiRecHits.timeError :                                  *\n",
      "*         | Float_t timeError[EcalBarrelScFiRecHits_]                        *\n",
      "*Entries :    25641 : Total  Size=   10257753 bytes  File Size  =     132004 *\n",
      "*Baskets :       60 : Basket Size=     763392 bytes  Compression=  77.69     *\n",
      "*............................................................................*\n",
      "*Br    6 :EcalBarrelScFiRecHits.position.x :                                 *\n",
      "*         | Float_t x[EcalBarrelScFiRecHits_]                                *\n",
      "*Entries :    25641 : Total  Size=   10257799 bytes  File Size  =    5398621 *\n",
      "*Baskets :       60 : Basket Size=     763392 bytes  Compression=   1.90     *\n",
      "*............................................................................*\n",
      "*Br    7 :EcalBarrelScFiRecHits.position.y :                                 *\n",
      "*         | Float_t y[EcalBarrelScFiRecHits_]                                *\n",
      "*Entries :    25641 : Total  Size=   10257799 bytes  File Size  =    5396432 *\n",
      "*Baskets :       60 : Basket Size=     763392 bytes  Compression=   1.90     *\n",
      "*............................................................................*\n",
      "*Br    8 :EcalBarrelScFiRecHits.position.z :                                 *\n",
      "*         | Float_t z[EcalBarrelScFiRecHits_]                                *\n",
      "*Entries :    25641 : Total  Size=   10257799 bytes  File Size  =    4025281 *\n",
      "*Baskets :       60 : Basket Size=     763392 bytes  Compression=   2.55     *\n",
      "*............................................................................*\n",
      "*Br    9 :EcalBarrelScFiRecHits.dimension.x :                                *\n",
      "*         | Float_t x[EcalBarrelScFiRecHits_]                                *\n",
      "*Entries :    25641 : Total  Size=   10257861 bytes  File Size  =     137364 *\n",
      "*Baskets :       60 : Basket Size=     763392 bytes  Compression=  74.66     *\n",
      "*............................................................................*\n",
      "*Br   10 :EcalBarrelScFiRecHits.dimension.y :                                *\n",
      "*         | Float_t y[EcalBarrelScFiRecHits_]                                *\n",
      "*Entries :    25641 : Total  Size=   10257861 bytes  File Size  =     132287 *\n",
      "*Baskets :       60 : Basket Size=     763392 bytes  Compression=  77.53     *\n",
      "*............................................................................*\n",
      "*Br   11 :EcalBarrelScFiRecHits.dimension.z :                                *\n",
      "*         | Float_t z[EcalBarrelScFiRecHits_]                                *\n",
      "*Entries :    25641 : Total  Size=   10257861 bytes  File Size  =     132287 *\n",
      "*Baskets :       60 : Basket Size=     763392 bytes  Compression=  77.53     *\n",
      "*............................................................................*\n",
      "*Br   12 :EcalBarrelScFiRecHits.sector : Int_t sector[EcalBarrelScFiRecHits_]*\n",
      "*Entries :    25641 : Total  Size=   10257561 bytes  File Size  =    1677182 *\n",
      "*Baskets :       60 : Basket Size=     763392 bytes  Compression=   6.11     *\n",
      "*............................................................................*\n",
      "*Br   13 :EcalBarrelScFiRecHits.layer : Int_t layer[EcalBarrelScFiRecHits_]  *\n",
      "*Entries :    25641 : Total  Size=   10257497 bytes  File Size  =    2316580 *\n",
      "*Baskets :       60 : Basket Size=     763392 bytes  Compression=   4.43     *\n",
      "*............................................................................*\n",
      "*Br   14 :EcalBarrelScFiRecHits.local.x : Float_t x[EcalBarrelScFiRecHits_]  *\n",
      "*Entries :    25641 : Total  Size=   10257613 bytes  File Size  =    5452128 *\n",
      "*Baskets :       60 : Basket Size=     763392 bytes  Compression=   1.88     *\n",
      "*............................................................................*\n",
      "*Br   15 :EcalBarrelScFiRecHits.local.y : Float_t y[EcalBarrelScFiRecHits_]  *\n",
      "*Entries :    25641 : Total  Size=   10257613 bytes  File Size  =    5450720 *\n",
      "*Baskets :       60 : Basket Size=     763392 bytes  Compression=   1.88     *\n",
      "*............................................................................*\n",
      "*Br   16 :EcalBarrelScFiRecHits.local.z : Float_t z[EcalBarrelScFiRecHits_]  *\n",
      "*Entries :    25641 : Total  Size=   10257613 bytes  File Size  =    3831821 *\n",
      "*Baskets :       60 : Basket Size=     763392 bytes  Compression=   2.68     *\n",
      "*............................................................................*\n"
     ]
    }
   ],
   "source": [
    "tree.Print(\"EcalBarrelScFiRecHits*\")"
   ]
  },
  {
   "cell_type": "markdown",
   "id": "85876055-681b-446c-88b8-b357ea556280",
   "metadata": {},
   "source": [
    "`TTreeReader` is a class that helps iterating over a tree. First, you create a `TTreeReader` object, passing our `tree` as an argument:"
   ]
  },
  {
   "cell_type": "code",
   "execution_count": 7,
   "id": "d96096ea-60ff-4adb-9195-b2aeb1d59734",
   "metadata": {},
   "outputs": [],
   "source": [
    "reader = ROOT.TTreeReader(tree)"
   ]
  },
  {
   "cell_type": "markdown",
   "id": "123a7bfc-7e7f-4e27-9bf8-d50852ac1ce3",
   "metadata": {},
   "source": [
    "Then, you define references to the data in the `TTree`'s branches using `TTreeReaderArray` objects of the appropriate type.\n",
    "\n",
    "In the following example, we create a `TTreeReaderArray` object for the PDG ID of the generated particles:\n",
    "\n",
    "- The data type, in this case`int`, is passed inside square brackets before the other arguments\n",
    "- The first argument is the `TTreeReader` object where the data is located\n",
    "- Finally, the second argument is the name of the branch, as it appears in e.g. `TBrowser`, `TTree.Print()`, etc\n",
    "\n"
   ]
  },
  {
   "cell_type": "code",
   "execution_count": 8,
   "id": "c223c578-896c-4326-b6b1-bb41878c755e",
   "metadata": {},
   "outputs": [],
   "source": [
    "PDG_mc = ROOT.TTreeReaderArray[int](reader, \"GeneratedParticles.PDG\")"
   ]
  },
  {
   "cell_type": "markdown",
   "id": "c06c7885-e51f-4af0-8c6e-56711b249001",
   "metadata": {},
   "source": [
    "By itself, the `TTreeReaderArray` object doesn't do much. However, calling the `Next()` method of the `TTreeReader` object will automatically populate each `TTreeReaderArray` object associated with it with the data from its connected branch for a single entry in the tree.\n",
    "\n",
    "In other words, we only need to _create_ the `TTreeReaderArray` objects once, and then we _use_ them $N$ times, where $N$ is the number of entries in the tree.\n",
    "\n",
    "More information:\n",
    "\n",
    "- https://root.cern.ch/doc/master/classTTreeReader.html\n",
    "- https://root.cern.ch/doc/master/classTTreeReaderArray.html\n",
    "\n",
    "To read data for a `TTreeReaderArray` object, we use the fact that it is a _Python iterable_, a generalized sequence-like object. This means that we can:\n",
    "\n",
    "- Iterate over it using `for item in PDG_mc: ...`\n",
    "- Convert it a Python `list` object: `PDG_as_list = list(PDG_mc)`\n",
    "- Using any of the Python built-in functions that support iterables, e.g. `len()` to get its length, etc\n",
    "\n",
    "One useful Python function that we'll use is `zip()`, which allows to iterate \"side-by-side\" by converting $M$ iterables of length $N$ into $N$ tuples with $M$ elements each:"
   ]
  },
  {
   "cell_type": "code",
   "execution_count": 9,
   "id": "f9b83675-b475-4601-a26b-46ef805e617b",
   "metadata": {},
   "outputs": [
    {
     "name": "stdout",
     "output_type": "stream",
     "text": [
      "e- -11\n",
      "mu- -13\n",
      "proton 2212\n",
      "neutron 2112\n"
     ]
    }
   ],
   "source": [
    "# we have M = 2 iterables (in this case lists) with N = 4 items each\n",
    "names = [\"e-\", \"mu-\", \"proton\", \"neutron\"]\n",
    "pdg_ids = [-11, -13, 2212, 2112]\n",
    "\n",
    "# zip() converts them into N = 4 tuples with M = 2 elements each,\n",
    "# that we can \"unpack\" (assign their elements to separate variables) directly in the loop\n",
    "for name, pdg_id in zip(names, pdg_ids):\n",
    "    print(name, pdg_id)"
   ]
  },
  {
   "cell_type": "markdown",
   "id": "d2c72ae1-adc5-4250-8593-b4a0d5eb8093",
   "metadata": {},
   "source": [
    "More information on Python iterables and `zip()`:\n",
    "\n",
    "- https://realpython.com/python-zip-function/\n",
    "- https://realpython.com/python-iterators-iterables/#getting-to-know-python-iterables"
   ]
  },
  {
   "cell_type": "markdown",
   "id": "12128080-b1e9-431b-8ca8-4b24cf3b60e6",
   "metadata": {},
   "source": [
    "We can define all the `TTreeReaderArray`s we need for our analysis in one place:"
   ]
  },
  {
   "cell_type": "code",
   "execution_count": 10,
   "id": "de38b77a-5e58-4fff-aca4-ba1ec7bc8d8b",
   "metadata": {},
   "outputs": [],
   "source": [
    "PDG_mc = ROOT.TTreeReaderArray[int](reader, \"GeneratedParticles.PDG\")\n",
    "type_mc = ROOT.TTreeReaderArray[int](reader, \"GeneratedParticles.type\")\n",
    "\n",
    "\n",
    "scfi_rec_energy = ROOT.TTreeReaderArray[float](reader, \"EcalBarrelScFiRecHits.energy\")\n",
    "scfi_rec_layer = ROOT.TTreeReaderArray[int](reader, \"EcalBarrelScFiRecHits.layer\")"
   ]
  },
  {
   "cell_type": "markdown",
   "id": "a5589b76-8845-4e70-9ec8-902e8830ff82",
   "metadata": {},
   "source": [
    "We do the same for the histograms:\n",
    "\n",
    "- Reference for `TH1` classes: https://root.cern/doc/master/classTH1.html"
   ]
  },
  {
   "cell_type": "code",
   "execution_count": 11,
   "id": "18df2442-d298-44d3-8db4-2be0b1b9da52",
   "metadata": {},
   "outputs": [],
   "source": [
    "h_scfi_rec_energy_e = ROOT.TH1F(\"scfi_rec_energy_e\", \"ScFi reconstructed energy for e\", 100, 0, 2)\n",
    "h_scfi_rec_energy_mu = ROOT.TH1F(\"scfi_rec_energy_mu\", \"ScFi reconstructed energy for mu\", 100, 0, 2)\n",
    "h_scfi_rec_energy_pi = ROOT.TH1F(\"scfi_rec_energy_pi\", \"ScFi reconstructed energy for pi\", 100, 0, 2)"
   ]
  },
  {
   "cell_type": "markdown",
   "id": "4bc3913e-0383-4bcc-a955-d798b6d75dcb",
   "metadata": {},
   "source": [
    "We're now ready to run the analysis by iterating over the entries in the tree. This will have the form of a nested loop with at least two levels:\n",
    "\n",
    "- The _event loop_, where each item represents a single event\n",
    "- Within a single event, one or more _inner loops_ over various arrays of interest, e.g. reconstructed particles and ScFi reconstructed hits in our case\n",
    "\n",
    "Note that the size of the inner loops in general differs from one event to the other: e.g. Event #123 might have 83 reconstructed ScFi hits, while Event #456 could have 72 hits, etc."
   ]
  },
  {
   "cell_type": "code",
   "execution_count": 12,
   "id": "b49c4410-4c0f-48a9-a3aa-33f02b62bdd2",
   "metadata": {
    "tags": []
   },
   "outputs": [],
   "source": [
    "map_PDG_to_name = {\n",
    "    -11: \"e-\",\n",
    "    11: \"e+\",\n",
    "    -13: \"mu-\",\n",
    "    13: \"mu+\",\n",
    "    -211: \"pi-\",\n",
    "    211: \"pi+\",\n",
    "}\n",
    "\n",
    "evt_idx = 0\n",
    "while reader.Next():  # iterate over the tree reader, moving to the next event if available, otherwise exit loop\n",
    "    evt_idx += 1\n",
    "\n",
    "    # we use the generated (MC) information to determine which primary particle we have for this event\n",
    "    particle = None\n",
    "    for gen_particle_PDG, gen_particle_type in zip(PDG_mc, type_mc):\n",
    "        # 1 for primary, 2 for secondary\n",
    "        if gen_particle_type == 1:\n",
    "            assert gen_particle_PDG in map_PDG_to_name\n",
    "            particle = map_PDG_to_name[gen_particle_PDG]\n",
    "    assert particle is not None\n",
    "    # then, we loop over the reconstructed ScFi hits by iterating on the `TTreeReaderArray` objects we created\n",
    "    # for the `EcalBarrelScFiRecHits` branches\n",
    "    energy_first_layers = 0\n",
    "    for energy, layer in zip(scfi_rec_energy, scfi_rec_layer):\n",
    "        if layer < 3:  # only consider the first 3 layers\n",
    "            energy_first_layers += energy\n",
    "\n",
    "    # finally, we fill the appropriate histogram depending on which primary particle we have in this event\n",
    "    if particle.startswith(\"e\"):\n",
    "        h_scfi_rec_energy_e.Fill(energy_first_layers)\n",
    "    elif particle.startswith(\"mu\"):\n",
    "        h_scfi_rec_energy_mu.Fill(energy_first_layers)\n",
    "    elif particle.startswith(\"pi\"):\n",
    "        h_scfi_rec_energy_pi.Fill(energy_first_layers)\n",
    "        \n",
    "    # end of the event loop code block; the iteration will start again for the next event (if available)\n",
    "        "
   ]
  },
  {
   "cell_type": "code",
   "execution_count": 13,
   "id": "4b3dd5b0-2a0a-4e87-9ac9-433a9fba1ef3",
   "metadata": {},
   "outputs": [],
   "source": [
    "c = ROOT.TCanvas(\"rec_energy\", \"ScFi reconstructed energy for first 3 layers\")"
   ]
  },
  {
   "cell_type": "markdown",
   "id": "f0d0cd93-1612-40e2-9d5a-4a637a643c77",
   "metadata": {},
   "source": [
    "- `TCanvas` class reference: https://root.cern.ch/doc/master/classTCanvas.html\n",
    "- `TColor` class reference: https://root.cern.ch/doc/master/classTColor.html\n",
    "  - \"The color wheel\" section"
   ]
  },
  {
   "cell_type": "code",
   "execution_count": 14,
   "id": "af2de449-7331-4dfb-9665-6bab8231f14b",
   "metadata": {},
   "outputs": [
    {
     "name": "stdout",
     "output_type": "stream",
     "text": [
      "20000.0\n",
      "50000.0\n",
      "25641.0\n"
     ]
    }
   ],
   "source": [
    "for h, color in [\n",
    "    (h_scfi_rec_energy_e, ROOT.kRed),\n",
    "    (h_scfi_rec_energy_mu, ROOT.kBlue),\n",
    "    (h_scfi_rec_energy_pi, ROOT.kGreen - 2),\n",
    "]:\n",
    "    # TODO fix title, axis limits, legend, ...\n",
    "    print(h.GetEntries())\n",
    "    h.SetLineColor(color)\n",
    "    h.Draw(\"same\")"
   ]
  },
  {
   "cell_type": "code",
   "execution_count": 15,
   "id": "b38083fe-1174-4c1d-b097-97f2b66f4d65",
   "metadata": {},
   "outputs": [
    {
     "data": {
      "text/html": [
       "\n",
       "\n",
       "<div id=\"root_plot_1689270874840\"\n",
       "     style=\"width: 696px; height: 472px\">\n",
       "</div>\n",
       "<script>\n",
       "\n",
       "function display_root_plot_1689270874840(Core) {\n",
       "   let obj = Core.parse({\"_typename\":\"TCanvas\",\"fUniqueID\":0,\"fBits\":3342344,\"fLineColor\":1,\"fLineStyle\":1,\"fLineWidth\":1,\"fFillColor\":0,\"fFillStyle\":1001,\"fLeftMargin\":0.1,\"fRightMargin\":0.1,\"fBottomMargin\":0.1,\"fTopMargin\":0.1,\"fXfile\":2,\"fYfile\":2,\"fAfile\":1,\"fXstat\":0.99,\"fYstat\":0.99,\"fAstat\":2,\"fFrameFillColor\":0,\"fFrameLineColor\":1,\"fFrameFillStyle\":1001,\"fFrameLineStyle\":1,\"fFrameLineWidth\":1,\"fFrameBorderSize\":1,\"fFrameBorderMode\":0,\"fX1\":-0.250000018626453,\"fY1\":-105.656257872005,\"fX2\":2.25000001862645,\"fY2\":950.906257872005,\"fXtoAbsPixelk\":69.6000541484835,\"fXtoPixelk\":69.6000541484835,\"fXtoPixel\":278.399995851517,\"fYtoAbsPixelk\":424.800047186661,\"fYtoPixelk\":424.800047186661,\"fYtoPixel\":-0.446731729515908,\"fUtoAbsPixelk\":5e-5,\"fUtoPixelk\":5e-5,\"fUtoPixel\":696,\"fVtoAbsPixelk\":472.00005,\"fVtoPixelk\":472,\"fVtoPixel\":-472,\"fAbsPixeltoXk\":-0.250000018626453,\"fPixeltoXk\":-0.250000018626453,\"fPixeltoX\":0.00359195407651279,\"fAbsPixeltoYk\":950.906257872005,\"fPixeltoYk\":-105.656257872005,\"fPixeltoY\":-2.23847990623731,\"fXlowNDC\":0,\"fYlowNDC\":0,\"fXUpNDC\":1,\"fYUpNDC\":1,\"fWNDC\":1,\"fHNDC\":1,\"fAbsXlowNDC\":0,\"fAbsYlowNDC\":0,\"fAbsWNDC\":1,\"fAbsHNDC\":1,\"fUxmin\":0,\"fUymin\":0,\"fUxmax\":2,\"fUymax\":845.25,\"fTheta\":30,\"fPhi\":30,\"fAspectRatio\":0,\"fNumber\":0,\"fTickx\":0,\"fTicky\":0,\"fLogx\":0,\"fLogy\":0,\"fLogz\":0,\"fPadPaint\":0,\"fCrosshair\":0,\"fCrosshairPos\":0,\"fBorderSize\":2,\"fBorderMode\":0,\"fModified\":false,\"fGridx\":false,\"fGridy\":false,\"fAbsCoord\":false,\"fEditable\":true,\"fFixedAspectRatio\":false,\"fPrimitives\":{\"_typename\":\"TList\",\"name\":\"TList\",\"arr\":[{\"_typename\":\"TFrame\",\"fUniqueID\":0,\"fBits\":8,\"fLineColor\":1,\"fLineStyle\":1,\"fLineWidth\":1,\"fFillColor\":0,\"fFillStyle\":1001,\"fX1\":0,\"fY1\":0,\"fX2\":2,\"fY2\":845.25,\"fBorderSize\":1,\"fBorderMode\":0},{\"_typename\":\"TH1F\",\"fUniqueID\":0,\"fBits\":8,\"fName\":\"scfi_rec_energy_e\",\"fTitle\":\"ScFi reconstructed energy for e\",\"fLineColor\":632,\"fLineStyle\":1,\"fLineWidth\":1,\"fFillColor\":0,\"fFillStyle\":1001,\"fMarkerColor\":1,\"fMarkerStyle\":1,\"fMarkerSize\":1,\"fNcells\":102,\"fXaxis\":{\"_typename\":\"TAxis\",\"fUniqueID\":0,\"fBits\":0,\"fName\":\"xaxis\",\"fTitle\":\"\",\"fNdivisions\":510,\"fAxisColor\":1,\"fLabelColor\":1,\"fLabelFont\":42,\"fLabelOffset\":0.005,\"fLabelSize\":0.035,\"fTickLength\":0.03,\"fTitleOffset\":1,\"fTitleSize\":0.035,\"fTitleColor\":1,\"fTitleFont\":42,\"fNbins\":100,\"fXmin\":0,\"fXmax\":2,\"fXbins\":[],\"fFirst\":0,\"fLast\":0,\"fBits2\":0,\"fTimeDisplay\":false,\"fTimeFormat\":\"\",\"fLabels\":null,\"fModLabs\":null},\"fYaxis\":{\"_typename\":\"TAxis\",\"fUniqueID\":0,\"fBits\":0,\"fName\":\"yaxis\",\"fTitle\":\"\",\"fNdivisions\":510,\"fAxisColor\":1,\"fLabelColor\":1,\"fLabelFont\":42,\"fLabelOffset\":0.005,\"fLabelSize\":0.035,\"fTickLength\":0.03,\"fTitleOffset\":0,\"fTitleSize\":0.035,\"fTitleColor\":1,\"fTitleFont\":42,\"fNbins\":1,\"fXmin\":0,\"fXmax\":1,\"fXbins\":[],\"fFirst\":0,\"fLast\":0,\"fBits2\":0,\"fTimeDisplay\":false,\"fTimeFormat\":\"\",\"fLabels\":null,\"fModLabs\":null},\"fZaxis\":{\"_typename\":\"TAxis\",\"fUniqueID\":0,\"fBits\":0,\"fName\":\"zaxis\",\"fTitle\":\"\",\"fNdivisions\":510,\"fAxisColor\":1,\"fLabelColor\":1,\"fLabelFont\":42,\"fLabelOffset\":0.005,\"fLabelSize\":0.035,\"fTickLength\":0.03,\"fTitleOffset\":1,\"fTitleSize\":0.035,\"fTitleColor\":1,\"fTitleFont\":42,\"fNbins\":1,\"fXmin\":0,\"fXmax\":1,\"fXbins\":[],\"fFirst\":0,\"fLast\":0,\"fBits2\":0,\"fTimeDisplay\":false,\"fTimeFormat\":\"\",\"fLabels\":null,\"fModLabs\":null},\"fBarOffset\":0,\"fBarWidth\":1000,\"fEntries\":20000,\"fTsumw\":20000,\"fTsumw2\":20000,\"fTsumwx\":10508.9597167969,\"fTsumwx2\":6481.15663209558,\"fMaximum\":-1111,\"fMinimum\":-1111,\"fNormFactor\":0,\"fContour\":[],\"fSumw2\":[],\"fOption\":\"\",\"fFunctions\":{\"_typename\":\"TList\",\"name\":\"TList\",\"arr\":[{\"_typename\":\"TPaveStats\",\"fUniqueID\":0,\"fBits\":9,\"fLineColor\":1,\"fLineStyle\":1,\"fLineWidth\":1,\"fFillColor\":0,\"fFillStyle\":1001,\"fX1\":1.70000005066395,\"fY1\":713.179698127206,\"fX2\":2.20000006556511,\"fY2\":882.229696867685,\"fX1NDC\":0.780000016093254,\"fY1NDC\":0.775000005960464,\"fX2NDC\":0.980000019073486,\"fY2NDC\":0.935000002384186,\"fBorderSize\":1,\"fInit\":1,\"fShadowColor\":1,\"fCornerRadius\":0,\"fOption\":\"brNDC\",\"fName\":\"stats\",\"fTextAngle\":0,\"fTextSize\":0,\"fTextAlign\":12,\"fTextColor\":1,\"fTextFont\":42,\"fLabel\":\"\",\"fLongest\":18,\"fMargin\":0.05,\"fLines\":{\"_typename\":\"TList\",\"name\":\"TList\",\"arr\":[{\"_typename\":\"TLatex\",\"fUniqueID\":0,\"fBits\":0,\"fName\":\"\",\"fTitle\":\"scfi_rec_energy_e\",\"fTextAngle\":0,\"fTextSize\":0.0368,\"fTextAlign\":0,\"fTextColor\":0,\"fTextFont\":0,\"fX\":0,\"fY\":0,\"fLineColor\":1,\"fLineStyle\":1,\"fLineWidth\":2,\"fLimitFactorSize\":3,\"fOriginSize\":0.0368000008165836},{\"_typename\":\"TLatex\",\"fUniqueID\":0,\"fBits\":0,\"fName\":\"\",\"fTitle\":\"Entries = 20000  \",\"fTextAngle\":0,\"fTextSize\":0,\"fTextAlign\":0,\"fTextColor\":0,\"fTextFont\":0,\"fX\":0,\"fY\":0,\"fLineColor\":1,\"fLineStyle\":1,\"fLineWidth\":2,\"fLimitFactorSize\":3,\"fOriginSize\":0.04},{\"_typename\":\"TLatex\",\"fUniqueID\":0,\"fBits\":0,\"fName\":\"\",\"fTitle\":\"Mean  = 0.5254\",\"fTextAngle\":0,\"fTextSize\":0,\"fTextAlign\":0,\"fTextColor\":0,\"fTextFont\":0,\"fX\":0,\"fY\":0,\"fLineColor\":1,\"fLineStyle\":1,\"fLineWidth\":2,\"fLimitFactorSize\":3,\"fOriginSize\":0.04},{\"_typename\":\"TLatex\",\"fUniqueID\":0,\"fBits\":0,\"fName\":\"\",\"fTitle\":\"Std Dev   =  0.219\",\"fTextAngle\":0,\"fTextSize\":0,\"fTextAlign\":0,\"fTextColor\":0,\"fTextFont\":0,\"fX\":0,\"fY\":0,\"fLineColor\":1,\"fLineStyle\":1,\"fLineWidth\":2,\"fLimitFactorSize\":3,\"fOriginSize\":0.04}],\"opt\":[\"\",\"\",\"\",\"\"]},\"fOptFit\":0,\"fOptStat\":1111,\"fFitFormat\":\"5.4g\",\"fStatFormat\":\"6.4g\",\"fParent\":{\"$ref\":3}}],\"opt\":[\"brNDC\"]},\"fBufferSize\":0,\"fBuffer\":[],\"fBinStatErrOpt\":0,\"fStatOverflows\":2,\"fArray\":[0,4,4,8,20,43,76,91,144,176,256,308,357,398,495,526,620,577,724,695,718,740,752,805,743,734,719,703,710,608,624,589,550,518,471,411,450,371,373,329,276,265,230,203,193,188,158,126,138,103,94,88,79,89,36,47,37,29,27,28,17,18,12,15,9,9,9,7,4,6,3,4,2,5,2,1,0,0,0,1,2,0,0,0,0,0,0,0,0,0,0,0,0,0,0,0,0,0,0,0,0,0]},{\"_typename\":\"TH1F\",\"fUniqueID\":0,\"fBits\":8,\"fName\":\"scfi_rec_energy_mu\",\"fTitle\":\"ScFi reconstructed energy for mu\",\"fLineColor\":600,\"fLineStyle\":1,\"fLineWidth\":1,\"fFillColor\":0,\"fFillStyle\":1001,\"fMarkerColor\":1,\"fMarkerStyle\":1,\"fMarkerSize\":1,\"fNcells\":102,\"fXaxis\":{\"_typename\":\"TAxis\",\"fUniqueID\":0,\"fBits\":0,\"fName\":\"xaxis\",\"fTitle\":\"\",\"fNdivisions\":510,\"fAxisColor\":1,\"fLabelColor\":1,\"fLabelFont\":42,\"fLabelOffset\":0.005,\"fLabelSize\":0.035,\"fTickLength\":0.03,\"fTitleOffset\":1,\"fTitleSize\":0.035,\"fTitleColor\":1,\"fTitleFont\":42,\"fNbins\":100,\"fXmin\":0,\"fXmax\":2,\"fXbins\":[],\"fFirst\":0,\"fLast\":0,\"fBits2\":0,\"fTimeDisplay\":false,\"fTimeFormat\":\"\",\"fLabels\":null,\"fModLabs\":null},\"fYaxis\":{\"_typename\":\"TAxis\",\"fUniqueID\":0,\"fBits\":0,\"fName\":\"yaxis\",\"fTitle\":\"\",\"fNdivisions\":510,\"fAxisColor\":1,\"fLabelColor\":1,\"fLabelFont\":42,\"fLabelOffset\":0.005,\"fLabelSize\":0.035,\"fTickLength\":0.03,\"fTitleOffset\":0,\"fTitleSize\":0.035,\"fTitleColor\":1,\"fTitleFont\":42,\"fNbins\":1,\"fXmin\":0,\"fXmax\":1,\"fXbins\":[],\"fFirst\":0,\"fLast\":0,\"fBits2\":0,\"fTimeDisplay\":false,\"fTimeFormat\":\"\",\"fLabels\":null,\"fModLabs\":null},\"fZaxis\":{\"_typename\":\"TAxis\",\"fUniqueID\":0,\"fBits\":0,\"fName\":\"zaxis\",\"fTitle\":\"\",\"fNdivisions\":510,\"fAxisColor\":1,\"fLabelColor\":1,\"fLabelFont\":42,\"fLabelOffset\":0.005,\"fLabelSize\":0.035,\"fTickLength\":0.03,\"fTitleOffset\":1,\"fTitleSize\":0.035,\"fTitleColor\":1,\"fTitleFont\":42,\"fNbins\":1,\"fXmin\":0,\"fXmax\":1,\"fXbins\":[],\"fFirst\":0,\"fLast\":0,\"fBits2\":0,\"fTimeDisplay\":false,\"fTimeFormat\":\"\",\"fLabels\":null,\"fModLabs\":null},\"fBarOffset\":0,\"fBarWidth\":1000,\"fEntries\":50000,\"fTsumw\":50000,\"fTsumw2\":50000,\"fTsumwx\":1476.93786621094,\"fTsumwx2\":50.3490265756845,\"fMaximum\":-1111,\"fMinimum\":-1111,\"fNormFactor\":0,\"fContour\":[],\"fSumw2\":[],\"fOption\":\"\",\"fFunctions\":{\"_typename\":\"TList\",\"name\":\"TList\",\"arr\":[],\"opt\":[]},\"fBufferSize\":0,\"fBuffer\":[],\"fBinStatErrOpt\":0,\"fStatOverflows\":2,\"fArray\":[0,841,44995,3193,596,197,80,38,20,13,7,4,3,5,3,1,0,1,1,1,0,0,0,1,0,0,0,0,0,0,0,0,0,0,0,0,0,0,0,0,0,0,0,0,0,0,0,0,0,0,0,0,0,0,0,0,0,0,0,0,0,0,0,0,0,0,0,0,0,0,0,0,0,0,0,0,0,0,0,0,0,0,0,0,0,0,0,0,0,0,0,0,0,0,0,0,0,0,0,0,0,0]},{\"_typename\":\"TH1F\",\"fUniqueID\":0,\"fBits\":8,\"fName\":\"scfi_rec_energy_pi\",\"fTitle\":\"ScFi reconstructed energy for pi\",\"fLineColor\":414,\"fLineStyle\":1,\"fLineWidth\":1,\"fFillColor\":0,\"fFillStyle\":1001,\"fMarkerColor\":1,\"fMarkerStyle\":1,\"fMarkerSize\":1,\"fNcells\":102,\"fXaxis\":{\"_typename\":\"TAxis\",\"fUniqueID\":0,\"fBits\":0,\"fName\":\"xaxis\",\"fTitle\":\"\",\"fNdivisions\":510,\"fAxisColor\":1,\"fLabelColor\":1,\"fLabelFont\":42,\"fLabelOffset\":0.005,\"fLabelSize\":0.035,\"fTickLength\":0.03,\"fTitleOffset\":1,\"fTitleSize\":0.035,\"fTitleColor\":1,\"fTitleFont\":42,\"fNbins\":100,\"fXmin\":0,\"fXmax\":2,\"fXbins\":[],\"fFirst\":0,\"fLast\":0,\"fBits2\":0,\"fTimeDisplay\":false,\"fTimeFormat\":\"\",\"fLabels\":null,\"fModLabs\":null},\"fYaxis\":{\"_typename\":\"TAxis\",\"fUniqueID\":0,\"fBits\":0,\"fName\":\"yaxis\",\"fTitle\":\"\",\"fNdivisions\":510,\"fAxisColor\":1,\"fLabelColor\":1,\"fLabelFont\":42,\"fLabelOffset\":0.005,\"fLabelSize\":0.035,\"fTickLength\":0.03,\"fTitleOffset\":0,\"fTitleSize\":0.035,\"fTitleColor\":1,\"fTitleFont\":42,\"fNbins\":1,\"fXmin\":0,\"fXmax\":1,\"fXbins\":[],\"fFirst\":0,\"fLast\":0,\"fBits2\":0,\"fTimeDisplay\":false,\"fTimeFormat\":\"\",\"fLabels\":null,\"fModLabs\":null},\"fZaxis\":{\"_typename\":\"TAxis\",\"fUniqueID\":0,\"fBits\":0,\"fName\":\"zaxis\",\"fTitle\":\"\",\"fNdivisions\":510,\"fAxisColor\":1,\"fLabelColor\":1,\"fLabelFont\":42,\"fLabelOffset\":0.005,\"fLabelSize\":0.035,\"fTickLength\":0.03,\"fTitleOffset\":1,\"fTitleSize\":0.035,\"fTitleColor\":1,\"fTitleFont\":42,\"fNbins\":1,\"fXmin\":0,\"fXmax\":1,\"fXbins\":[],\"fFirst\":0,\"fLast\":0,\"fBits2\":0,\"fTimeDisplay\":false,\"fTimeFormat\":\"\",\"fLabels\":null,\"fModLabs\":null},\"fBarOffset\":0,\"fBarWidth\":1000,\"fEntries\":25641,\"fTsumw\":25577,\"fTsumw2\":25577,\"fTsumwx\":3782.78466796875,\"fTsumwx2\":2738.98903012276,\"fMaximum\":-1111,\"fMinimum\":-1111,\"fNormFactor\":0,\"fContour\":[],\"fSumw2\":[],\"fOption\":\"\",\"fFunctions\":{\"_typename\":\"TList\",\"name\":\"TList\",\"arr\":[],\"opt\":[]},\"fBufferSize\":0,\"fBuffer\":[],\"fBinStatErrOpt\":0,\"fStatOverflows\":2,\"fArray\":[0,221,14208,3322,1285,797,509,406,283,261,219,184,184,149,154,129,121,125,104,90,82,79,102,66,72,77,85,63,85,67,83,55,75,58,66,60,64,54,41,52,44,44,47,67,45,43,46,56,41,42,28,43,43,37,35,36,37,37,28,25,28,29,35,20,34,24,31,26,32,24,21,22,15,14,18,23,9,13,10,14,15,11,11,13,8,9,15,10,11,4,10,6,8,4,4,7,7,6,7,4,4,64]},{\"_typename\":\"TPaveText\",\"fUniqueID\":0,\"fBits\":9,\"fLineColor\":1,\"fLineStyle\":1,\"fLineWidth\":1,\"fFillColor\":0,\"fFillStyle\":0,\"fX1\":0.326652288816911,\"fY1\":881.155229031733,\"fX2\":1.67334771118309,\"fY2\":945.623450331367,\"fX1NDC\":0.23066091954023,\"fY1NDC\":0.933983055615829,\"fX2NDC\":0.76933908045977,\"fY2NDC\":0.995000004768372,\"fBorderSize\":0,\"fInit\":1,\"fShadowColor\":1,\"fCornerRadius\":0,\"fOption\":\"blNDC\",\"fName\":\"title\",\"fTextAngle\":0,\"fTextSize\":0,\"fTextAlign\":22,\"fTextColor\":1,\"fTextFont\":42,\"fLabel\":\"\",\"fLongest\":31,\"fMargin\":0.05,\"fLines\":{\"_typename\":\"TList\",\"name\":\"TList\",\"arr\":[{\"_typename\":\"TLatex\",\"fUniqueID\":0,\"fBits\":0,\"fName\":\"\",\"fTitle\":\"ScFi reconstructed energy for e\",\"fTextAngle\":0,\"fTextSize\":0,\"fTextAlign\":0,\"fTextColor\":0,\"fTextFont\":0,\"fX\":0,\"fY\":0,\"fLineColor\":1,\"fLineStyle\":1,\"fLineWidth\":2,\"fLimitFactorSize\":3,\"fOriginSize\":0.0518644079566002}],\"opt\":[\"\"]}},{\"_typename\":\"TStyle\",\"fUniqueID\":0,\"fBits\":0,\"fName\":\"Modern\",\"fTitle\":\"Modern Style\",\"fLineColor\":1,\"fLineStyle\":1,\"fLineWidth\":1,\"fFillColor\":19,\"fFillStyle\":1001,\"fMarkerColor\":1,\"fMarkerStyle\":1,\"fMarkerSize\":1,\"fTextAngle\":0,\"fTextSize\":0.05,\"fTextAlign\":11,\"fTextColor\":1,\"fTextFont\":62,\"fXaxis\":{\"_typename\":\"TAttAxis\",\"fNdivisions\":510,\"fAxisColor\":1,\"fLabelColor\":1,\"fLabelFont\":42,\"fLabelOffset\":0.005,\"fLabelSize\":0.035,\"fTickLength\":0.03,\"fTitleOffset\":1,\"fTitleSize\":0.035,\"fTitleColor\":1,\"fTitleFont\":42},\"fYaxis\":{\"_typename\":\"TAttAxis\",\"fNdivisions\":510,\"fAxisColor\":1,\"fLabelColor\":1,\"fLabelFont\":42,\"fLabelOffset\":0.005,\"fLabelSize\":0.035,\"fTickLength\":0.03,\"fTitleOffset\":0,\"fTitleSize\":0.035,\"fTitleColor\":1,\"fTitleFont\":42},\"fZaxis\":{\"_typename\":\"TAttAxis\",\"fNdivisions\":510,\"fAxisColor\":1,\"fLabelColor\":1,\"fLabelFont\":42,\"fLabelOffset\":0.005,\"fLabelSize\":0.035,\"fTickLength\":0.03,\"fTitleOffset\":1,\"fTitleSize\":0.035,\"fTitleColor\":1,\"fTitleFont\":42},\"fBarWidth\":1,\"fBarOffset\":0,\"fColorModelPS\":0,\"fDrawBorder\":0,\"fOptLogx\":0,\"fOptLogy\":0,\"fOptLogz\":0,\"fOptDate\":0,\"fOptStat\":1111,\"fOptTitle\":1,\"fOptFile\":0,\"fOptFit\":0,\"fShowEventStatus\":0,\"fShowEditor\":0,\"fShowToolBar\":0,\"fNumberContours\":20,\"fAttDate\":{\"_typename\":\"TAttText\",\"fTextAngle\":0,\"fTextSize\":0.025,\"fTextAlign\":11,\"fTextColor\":1,\"fTextFont\":62},\"fDateX\":0.01,\"fDateY\":0.01,\"fEndErrorSize\":2,\"fErrorX\":0.5,\"fFuncColor\":2,\"fFuncStyle\":1,\"fFuncWidth\":2,\"fGridColor\":0,\"fGridStyle\":3,\"fGridWidth\":1,\"fLegendBorderSize\":1,\"fLegendFillColor\":0,\"fLegendFont\":42,\"fLegendTextSize\":0,\"fHatchesLineWidth\":1,\"fHatchesSpacing\":1,\"fFrameFillColor\":0,\"fFrameLineColor\":1,\"fFrameFillStyle\":1001,\"fFrameLineStyle\":1,\"fFrameLineWidth\":1,\"fFrameBorderSize\":1,\"fFrameBorderMode\":0,\"fHistFillColor\":0,\"fHistLineColor\":602,\"fHistFillStyle\":1001,\"fHistLineStyle\":1,\"fHistLineWidth\":1,\"fHistMinimumZero\":false,\"fHistTopMargin\":0.05,\"fCanvasPreferGL\":false,\"fCanvasColor\":0,\"fCanvasBorderSize\":2,\"fCanvasBorderMode\":0,\"fCanvasDefH\":500,\"fCanvasDefW\":700,\"fCanvasDefX\":10,\"fCanvasDefY\":10,\"fPadColor\":0,\"fPadBorderSize\":2,\"fPadBorderMode\":0,\"fPadBottomMargin\":0.1,\"fPadTopMargin\":0.1,\"fPadLeftMargin\":0.1,\"fPadRightMargin\":0.1,\"fPadGridX\":false,\"fPadGridY\":false,\"fPadTickX\":0,\"fPadTickY\":0,\"fPaperSizeX\":20,\"fPaperSizeY\":26,\"fScreenFactor\":1,\"fStatColor\":0,\"fStatTextColor\":1,\"fStatBorderSize\":1,\"fStatFont\":42,\"fStatFontSize\":0,\"fStatStyle\":1001,\"fStatFormat\":\"6.4g\",\"fStatX\":0.98,\"fStatY\":0.935,\"fStatW\":0.2,\"fStatH\":0.16,\"fStripDecimals\":true,\"fTitleAlign\":23,\"fTitleColor\":0,\"fTitleTextColor\":1,\"fTitleBorderSize\":0,\"fTitleFont\":42,\"fTitleFontSize\":0.05,\"fTitleStyle\":0,\"fTitleX\":0.5,\"fTitleY\":0.995,\"fTitleW\":0,\"fTitleH\":0,\"fLegoInnerR\":0.5,\"fLineStyle\":[\"\",\"  \",\" 12 12\",\" 4 8\",\" 12 16 4 16\",\" 20 12 4 12\",\" 20 12 4 12 4 12 4 12\",\" 20 20\",\" 20 12 4 12 4 12\",\" 80 20\",\" 80 40 4 40\",\"  \",\"  \",\"  \",\"  \",\"  \",\"  \",\"  \",\"  \",\"  \",\"  \",\"  \",\"  \",\"  \",\"  \",\"  \",\"  \",\"  \",\"  \",\"  \"],\"fHeaderPS\":\"\",\"fTitlePS\":\"\",\"fFitFormat\":\"5.4g\",\"fPaintTextFormat\":\"g\",\"fLineScalePS\":3,\"fJoinLinePS\":0,\"fCapLinePS\":0,\"fTimeOffset\":788918400,\"fImageScaling\":1}],\"opt\":[\"\",\"\",\"same\",\"same\",\"blNDC\",\"\"]},\"fExecs\":null,\"fName\":\"rec_energy\",\"fTitle\":\"ScFi reconstructed energy for first 3 layers\",\"fNumPaletteColor\":0,\"fNextPaletteColor\":0,\"fDISPLAY\":\"$DISPLAY\",\"fDoubleBuffer\":0,\"fRetained\":true,\"fXsizeUser\":0,\"fYsizeUser\":0,\"fXsizeReal\":20,\"fYsizeReal\":14.28571,\"fWindowTopX\":0,\"fWindowTopY\":0,\"fWindowWidth\":0,\"fWindowHeight\":0,\"fCw\":696,\"fCh\":472,\"fCatt\":{\"_typename\":\"TAttCanvas\",\"fXBetween\":2,\"fYBetween\":2,\"fTitleFromTop\":1.2,\"fXdate\":0.2,\"fYdate\":0.3,\"fAdate\":1},\"kMoveOpaque\":true,\"kResizeOpaque\":true,\"fHighLightColor\":2,\"fBatch\":true,\"kShowEventStatus\":false,\"kAutoExec\":true,\"kMenuBar\":true});\n",
       "   Core.settings.HandleKeys = false;\n",
       "   Core.draw(\"root_plot_1689270874840\", obj, \"\");\n",
       "}\n",
       "\n",
       "function script_load_root_plot_1689270874840(src, on_error) {\n",
       "    let script = document.createElement('script');\n",
       "    script.src = src;\n",
       "    script.onload = function() { display_root_plot_1689270874840(JSROOT); };\n",
       "    script.onerror = function() { script.remove(); on_error(); };\n",
       "    document.head.appendChild(script);\n",
       "}\n",
       "\n",
       "if (typeof requirejs !== 'undefined') {\n",
       "\n",
       "    // We are in jupyter notebooks, use require.js which should be configured already\n",
       "    requirejs.config({\n",
       "       paths: { 'JSRootCore' : [ 'scripts/JSRoot.core', 'https://root.cern/js/6.1.1/scripts/JSRoot.core.min', 'https://jsroot.gsi.de/6.1.1/scripts/JSRoot.core.min' ] }\n",
       "    })(['JSRootCore'],  function(Core) {\n",
       "       display_root_plot_1689270874840(Core);\n",
       "    });\n",
       "\n",
       "} else if (typeof JSROOT !== 'undefined') {\n",
       "\n",
       "   // JSROOT already loaded, just use it\n",
       "   display_root_plot_1689270874840(JSROOT);\n",
       "\n",
       "} else {\n",
       "\n",
       "    // We are in jupyterlab without require.js, directly loading jsroot\n",
       "    // Jupyterlab might be installed in a different base_url so we need to know it.\n",
       "    try {\n",
       "        var base_url = JSON.parse(document.getElementById('jupyter-config-data').innerHTML).baseUrl;\n",
       "    } catch(_) {\n",
       "        var base_url = '/';\n",
       "    }\n",
       "\n",
       "    // Try loading a local version of requirejs and fallback to cdn if not possible.\n",
       "    script_load_root_plot_1689270874840(base_url + 'static/scripts/JSRoot.core.js', function(){\n",
       "        console.error('Fail to load JSROOT locally, please check your jupyter_notebook_config.py file');\n",
       "        script_load_root_plot_1689270874840('https://root.cern/js/6.1.1/scripts/JSRoot.core.min.js', function(){\n",
       "            document.getElementById(\"root_plot_1689270874840\").innerHTML = \"Failed to load JSROOT\";\n",
       "        });\n",
       "    });\n",
       "}\n",
       "\n",
       "</script>\n"
      ],
      "text/plain": [
       "<IPython.core.display.HTML object>"
      ]
     },
     "metadata": {},
     "output_type": "display_data"
    }
   ],
   "source": [
    "c.Draw()"
   ]
  }
 ],
 "metadata": {
  "kernelspec": {
   "display_name": "Python 3 (ipykernel)",
   "language": "python",
   "name": "python3"
  },
  "language_info": {
   "codemirror_mode": {
    "name": "ipython",
    "version": 3
   },
   "file_extension": ".py",
   "mimetype": "text/x-python",
   "name": "python",
   "nbconvert_exporter": "python",
   "pygments_lexer": "ipython3",
   "version": "3.7.8"
  }
 },
 "nbformat": 4,
 "nbformat_minor": 5
}
